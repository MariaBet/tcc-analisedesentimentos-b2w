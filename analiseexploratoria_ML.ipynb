{
  "cells": [
    {
      "cell_type": "markdown",
      "metadata": {
        "id": "view-in-github",
        "colab_type": "text"
      },
      "source": [
        "<a href=\"https://colab.research.google.com/github/MariaBet/tcc-analisedesentimentos-b2w/blob/main/analiseexploratoria_ML.ipynb\" target=\"_parent\"><img src=\"https://colab.research.google.com/assets/colab-badge.svg\" alt=\"Open In Colab\"/></a>"
      ]
    },
    {
      "cell_type": "code",
      "execution_count": null,
      "metadata": {
        "id": "JPc9IQSWiNvr"
      },
      "outputs": [],
      "source": [
        "#from google.colab import drive\n",
        "#drive.mount('/content/drive') "
      ]
    },
    {
      "cell_type": "code",
      "execution_count": null,
      "metadata": {
        "id": "1Z_anB37Je36"
      },
      "outputs": [],
      "source": [
        "#!pip install numpy"
      ]
    },
    {
      "cell_type": "code",
      "execution_count": null,
      "metadata": {
        "id": "6kEjsZkQJe37"
      },
      "outputs": [],
      "source": [
        "#!pip install pandas"
      ]
    },
    {
      "cell_type": "code",
      "execution_count": null,
      "metadata": {
        "id": "oMdX_4dmmru7",
        "outputId": "56800e60-eb85-4af4-f1c4-5c4340b104fb"
      },
      "outputs": [
        {
          "ename": "ModuleNotFoundError",
          "evalue": "No module named 'imblearn'",
          "output_type": "error",
          "traceback": [
            "\u001b[0;31m---------------------------------------------------------------------------\u001b[0m",
            "\u001b[0;31mModuleNotFoundError\u001b[0m                       Traceback (most recent call last)",
            "\u001b[0;32m<ipython-input-4-32ec2a385d03>\u001b[0m in \u001b[0;36m<module>\u001b[0;34m\u001b[0m\n\u001b[1;32m      2\u001b[0m \u001b[0;34m\u001b[0m\u001b[0m\n\u001b[1;32m      3\u001b[0m \u001b[0;31m# para gerar dados sintéticos e balancear a variável a ser predita\u001b[0m\u001b[0;34m\u001b[0m\u001b[0;34m\u001b[0m\u001b[0;34m\u001b[0m\u001b[0m\n\u001b[0;32m----> 4\u001b[0;31m \u001b[0;32mfrom\u001b[0m \u001b[0mimblearn\u001b[0m\u001b[0;34m.\u001b[0m\u001b[0mover_sampling\u001b[0m \u001b[0;32mimport\u001b[0m \u001b[0mSMOTE\u001b[0m\u001b[0;34m\u001b[0m\u001b[0;34m\u001b[0m\u001b[0m\n\u001b[0m\u001b[1;32m      5\u001b[0m \u001b[0;34m\u001b[0m\u001b[0m\n\u001b[1;32m      6\u001b[0m \u001b[0;31m# para dispor os dados na mesma escala\u001b[0m\u001b[0;34m\u001b[0m\u001b[0;34m\u001b[0m\u001b[0;34m\u001b[0m\u001b[0m\n",
            "\u001b[0;31mModuleNotFoundError\u001b[0m: No module named 'imblearn'"
          ]
        }
      ],
      "source": [
        "import numpy as np\n",
        "\n",
        "# para gerar dados sintéticos e balancear a variável a ser predita\n",
        "from imblearn.over_sampling import SMOTE\n",
        "\n",
        "# para dispor os dados na mesma escala\n",
        "\n",
        "# modelo de machine learning\n",
        "import random\n",
        "from sklearn.model_selection import train_test_split\n",
        "from sklearn.model_selection import RandomizedSearchCV\n",
        "from sklearn.ensemble        import RandomForestClassifier\n",
        "from sklearn.naive_bayes     import MultinomialNB\n",
        "from sklearn.ensemble        import GradientBoostingClassifier\n",
        "from sklearn.linear_model    import LogisticRegression\n",
        "\n",
        "# para avaliar o modelo\n",
        "from sklearn.metrics import accuracy_score, confusion_matrix, f1_score\n",
        "\n",
        "\n",
        "# para salvar artefatos\n",
        "import pickle\n",
        "\n"
      ]
    },
    {
      "cell_type": "code",
      "execution_count": null,
      "metadata": {
        "id": "dwRmU50TiWm2"
      },
      "outputs": [],
      "source": [
        "import pandas as pd\n",
        "df = pd.read_csv(\"b2w_preprocessado3.csv\")\n"
      ]
    },
    {
      "cell_type": "code",
      "execution_count": null,
      "metadata": {
        "colab": {
          "base_uri": "https://localhost:8080/",
          "height": 803
        },
        "id": "l16kM6eEi0d_",
        "outputId": "8a4f197a-aa7d-46f2-d177-4614f8929b87"
      },
      "outputs": [
        {
          "data": {
            "text/html": [
              "<div>\n",
              "<style scoped>\n",
              "    .dataframe tbody tr th:only-of-type {\n",
              "        vertical-align: middle;\n",
              "    }\n",
              "\n",
              "    .dataframe tbody tr th {\n",
              "        vertical-align: top;\n",
              "    }\n",
              "\n",
              "    .dataframe thead th {\n",
              "        text-align: right;\n",
              "    }\n",
              "</style>\n",
              "<table border=\"1\" class=\"dataframe\">\n",
              "  <thead>\n",
              "    <tr style=\"text-align: right;\">\n",
              "      <th></th>\n",
              "      <th>review_comentarios</th>\n",
              "      <th>sentiment</th>\n",
              "      <th>overall_rating</th>\n",
              "    </tr>\n",
              "  </thead>\n",
              "  <tbody>\n",
              "    <tr>\n",
              "      <th>0</th>\n",
              "      <td>Bom Estou contente com a compra entrega rápida...</td>\n",
              "      <td>1</td>\n",
              "      <td>4</td>\n",
              "    </tr>\n",
              "    <tr>\n",
              "      <th>1</th>\n",
              "      <td>Preço imbatível ótima qualidade Por apenas Reu...</td>\n",
              "      <td>1</td>\n",
              "      <td>4</td>\n",
              "    </tr>\n",
              "    <tr>\n",
              "      <th>2</th>\n",
              "      <td>ATENDE TODAS AS EXPECTATIVA SUPERA EM AGILIDAD...</td>\n",
              "      <td>1</td>\n",
              "      <td>4</td>\n",
              "    </tr>\n",
              "    <tr>\n",
              "      <th>3</th>\n",
              "      <td>presente mais que desejado MEU FILHO AMOU PARE...</td>\n",
              "      <td>1</td>\n",
              "      <td>4</td>\n",
              "    </tr>\n",
              "    <tr>\n",
              "      <th>4</th>\n",
              "      <td>Sem duvidas excelente A entrega foi no prazo a...</td>\n",
              "      <td>1</td>\n",
              "      <td>5</td>\n",
              "    </tr>\n",
              "  </tbody>\n",
              "</table>\n",
              "</div>"
            ],
            "text/plain": [
              "                                  review_comentarios  sentiment  \\\n",
              "0  Bom Estou contente com a compra entrega rápida...          1   \n",
              "1  Preço imbatível ótima qualidade Por apenas Reu...          1   \n",
              "2  ATENDE TODAS AS EXPECTATIVA SUPERA EM AGILIDAD...          1   \n",
              "3  presente mais que desejado MEU FILHO AMOU PARE...          1   \n",
              "4  Sem duvidas excelente A entrega foi no prazo a...          1   \n",
              "\n",
              "   overall_rating  \n",
              "0               4  \n",
              "1               4  \n",
              "2               4  \n",
              "3               4  \n",
              "4               5  "
            ]
          },
          "execution_count": 2,
          "metadata": {},
          "output_type": "execute_result"
        }
      ],
      "source": [
        "df.head()"
      ]
    },
    {
      "cell_type": "code",
      "execution_count": null,
      "metadata": {
        "id": "skbCGZPJluS_"
      },
      "outputs": [],
      "source": [
        ""
      ]
    },
    {
      "cell_type": "code",
      "execution_count": null,
      "metadata": {
        "id": "ryIJeinti1pR"
      },
      "outputs": [],
      "source": [
        "from sklearn.feature_extraction.text import TfidfVectorizer\n",
        "\n",
        "review = df['review_comentarios']\n",
        "\n",
        "vect = TfidfVectorizer(ngram_range=(1,4), lowercase=True, use_idf=True, min_df=2, max_df=0.95, max_features=15000)\n",
        "vect.fit(review)\n",
        "\n",
        "text_vect = vect.transform(review)"
      ]
    },
    {
      "cell_type": "code",
      "execution_count": null,
      "metadata": {
        "colab": {
          "base_uri": "https://localhost:8080/"
        },
        "id": "eCTTozM-kulN",
        "outputId": "668b1ba6-7d57-42f2-906d-f32e53b258bd"
      },
      "outputs": [
        {
          "name": "stdout",
          "output_type": "stream",
          "text": [
            "  (0, 14993)\t0.1815593494048446\n",
            "  (0, 14987)\t0.15368199870919044\n",
            "  (0, 14000)\t0.2215989494825973\n",
            "  (0, 13999)\t0.20629788880536346\n",
            "  (0, 13991)\t0.1321302170965025\n",
            "  (0, 13620)\t0.08896946329159579\n",
            "  (0, 12916)\t0.08894128182663054\n",
            "  (0, 12754)\t0.09964648074548588\n",
            "  (0, 10921)\t0.040433817088182784\n",
            "  (0, 10893)\t0.17810334575283718\n",
            "  (0, 10892)\t0.13376531111210327\n",
            "  (0, 10879)\t0.17779006945108886\n",
            "  (0, 10877)\t0.11572078910802244\n",
            "  (0, 9621)\t0.22693520770789405\n",
            "  (0, 9620)\t0.21250458961599167\n",
            "  (0, 9617)\t0.11126690856214372\n",
            "  (0, 5406)\t0.2274809289156955\n",
            "  (0, 5389)\t0.0940802989017254\n",
            "  (0, 5218)\t0.17356903122475917\n",
            "  (0, 5020)\t0.12544598397681625\n",
            "  (0, 4893)\t0.07031104493354219\n",
            "  (0, 4360)\t0.0839984128849777\n",
            "  (0, 4228)\t0.05592159339314031\n",
            "  (0, 4020)\t0.1868629659557571\n",
            "  (0, 4016)\t0.16613760463183494\n",
            "  :\t:\n",
            "  (132372, 8748)\t0.11315928984003464\n",
            "  (132372, 7828)\t0.23030889831212664\n",
            "  (132372, 7824)\t0.14373143054387122\n",
            "  (132372, 7705)\t0.18683281429864523\n",
            "  (132372, 7672)\t0.09699290339086435\n",
            "  (132372, 7091)\t0.22837862803832246\n",
            "  (132372, 7034)\t0.09559204717111118\n",
            "  (132372, 5941)\t0.12390784789249043\n",
            "  (132372, 5386)\t0.17983986420147405\n",
            "  (132372, 5344)\t0.18664475045574577\n",
            "  (132372, 5342)\t0.1278192471803998\n",
            "  (132372, 5295)\t0.13874016993731844\n",
            "  (132372, 5279)\t0.10621424794412544\n",
            "  (132372, 5135)\t0.22490057203014907\n",
            "  (132372, 5133)\t0.17318993433651186\n",
            "  (132372, 5089)\t0.2308146759338162\n",
            "  (132372, 5076)\t0.1141020038162254\n",
            "  (132372, 4032)\t0.17729837943469773\n",
            "  (132372, 2684)\t0.1942004646545238\n",
            "  (132372, 2682)\t0.16704454974855362\n",
            "  (132372, 2664)\t0.09023331425313423\n",
            "  (132372, 2211)\t0.2308146759338162\n",
            "  (132372, 2186)\t0.06290449924053744\n",
            "  (132372, 1999)\t0.08153283282391405\n",
            "  (132372, 1106)\t0.20705064431984876\n"
          ]
        }
      ],
      "source": [
        "print(text_vect)"
      ]
    },
    {
      "cell_type": "code",
      "execution_count": null,
      "metadata": {
        "colab": {
          "base_uri": "https://localhost:8080/"
        },
        "id": "mLKtrCPxkzJy",
        "outputId": "3665954f-604b-49d3-8763-cb1758950ca9"
      },
      "outputs": [
        {
          "name": "stderr",
          "output_type": "stream",
          "text": [
            "/home/betania.honorio/.local/lib/python3.8/site-packages/sklearn/utils/deprecation.py:87: FutureWarning: Function get_feature_names is deprecated; get_feature_names is deprecated in 1.0 and will be removed in 1.2. Please use get_feature_names_out instead.\n",
            "  warnings.warn(msg, category=FutureWarning)\n"
          ]
        },
        {
          "name": "stdout",
          "output_type": "stream",
          "text": [
            "<class 'pandas.core.frame.DataFrame'>\n",
            "RangeIndex: 132373 entries, 0 to 132372\n",
            "Columns: 15000 entries, abaixo to útil para\n",
            "dtypes: float64(15000)\n",
            "memory usage: 14.8 GB\n"
          ]
        }
      ],
      "source": [
        "# Gerar Pandas DataFrame\n",
        "tfidf = pd.DataFrame(text_vect.toarray(), columns=vect.get_feature_names())\n",
        "\n",
        "# relatório de dtypes\n",
        "tfidf.info()"
      ]
    },
    {
      "cell_type": "code",
      "execution_count": null,
      "metadata": {
        "colab": {
          "base_uri": "https://localhost:8080/",
          "height": 334
        },
        "id": "iWyx5_SglL3c",
        "outputId": "47e97173-d6ce-48fe-d00a-017cc341ef70"
      },
      "outputs": [
        {
          "data": {
            "text/html": [
              "<div>\n",
              "<style scoped>\n",
              "    .dataframe tbody tr th:only-of-type {\n",
              "        vertical-align: middle;\n",
              "    }\n",
              "\n",
              "    .dataframe tbody tr th {\n",
              "        vertical-align: top;\n",
              "    }\n",
              "\n",
              "    .dataframe thead th {\n",
              "        text-align: right;\n",
              "    }\n",
              "</style>\n",
              "<table border=\"1\" class=\"dataframe\">\n",
              "  <thead>\n",
              "    <tr style=\"text-align: right;\">\n",
              "      <th></th>\n",
              "      <th>abaixo</th>\n",
              "      <th>abaixo do</th>\n",
              "      <th>abea</th>\n",
              "      <th>abeo</th>\n",
              "      <th>abeura</th>\n",
              "      <th>abraço</th>\n",
              "      <th>abre</th>\n",
              "      <th>abri</th>\n",
              "      <th>abri caixa</th>\n",
              "      <th>abril</th>\n",
              "      <th>...</th>\n",
              "      <th>único ponto negativo</th>\n",
              "      <th>único ponto negativo que</th>\n",
              "      <th>único porém</th>\n",
              "      <th>único problema</th>\n",
              "      <th>único problema foi</th>\n",
              "      <th>único problema que</th>\n",
              "      <th>úteis</th>\n",
              "      <th>úteis para</th>\n",
              "      <th>útil</th>\n",
              "      <th>útil para</th>\n",
              "    </tr>\n",
              "  </thead>\n",
              "  <tbody>\n",
              "    <tr>\n",
              "      <th>0</th>\n",
              "      <td>0.0</td>\n",
              "      <td>0.0</td>\n",
              "      <td>0.0</td>\n",
              "      <td>0.0</td>\n",
              "      <td>0.0</td>\n",
              "      <td>0.0</td>\n",
              "      <td>0.0</td>\n",
              "      <td>0.0</td>\n",
              "      <td>0.0</td>\n",
              "      <td>0.0</td>\n",
              "      <td>...</td>\n",
              "      <td>0.0</td>\n",
              "      <td>0.0</td>\n",
              "      <td>0.0</td>\n",
              "      <td>0.181559</td>\n",
              "      <td>0.0</td>\n",
              "      <td>0.0</td>\n",
              "      <td>0.0</td>\n",
              "      <td>0.0</td>\n",
              "      <td>0.0</td>\n",
              "      <td>0.0</td>\n",
              "    </tr>\n",
              "    <tr>\n",
              "      <th>1</th>\n",
              "      <td>0.0</td>\n",
              "      <td>0.0</td>\n",
              "      <td>0.0</td>\n",
              "      <td>0.0</td>\n",
              "      <td>0.0</td>\n",
              "      <td>0.0</td>\n",
              "      <td>0.0</td>\n",
              "      <td>0.0</td>\n",
              "      <td>0.0</td>\n",
              "      <td>0.0</td>\n",
              "      <td>...</td>\n",
              "      <td>0.0</td>\n",
              "      <td>0.0</td>\n",
              "      <td>0.0</td>\n",
              "      <td>0.000000</td>\n",
              "      <td>0.0</td>\n",
              "      <td>0.0</td>\n",
              "      <td>0.0</td>\n",
              "      <td>0.0</td>\n",
              "      <td>0.0</td>\n",
              "      <td>0.0</td>\n",
              "    </tr>\n",
              "    <tr>\n",
              "      <th>2</th>\n",
              "      <td>0.0</td>\n",
              "      <td>0.0</td>\n",
              "      <td>0.0</td>\n",
              "      <td>0.0</td>\n",
              "      <td>0.0</td>\n",
              "      <td>0.0</td>\n",
              "      <td>0.0</td>\n",
              "      <td>0.0</td>\n",
              "      <td>0.0</td>\n",
              "      <td>0.0</td>\n",
              "      <td>...</td>\n",
              "      <td>0.0</td>\n",
              "      <td>0.0</td>\n",
              "      <td>0.0</td>\n",
              "      <td>0.000000</td>\n",
              "      <td>0.0</td>\n",
              "      <td>0.0</td>\n",
              "      <td>0.0</td>\n",
              "      <td>0.0</td>\n",
              "      <td>0.0</td>\n",
              "      <td>0.0</td>\n",
              "    </tr>\n",
              "    <tr>\n",
              "      <th>3</th>\n",
              "      <td>0.0</td>\n",
              "      <td>0.0</td>\n",
              "      <td>0.0</td>\n",
              "      <td>0.0</td>\n",
              "      <td>0.0</td>\n",
              "      <td>0.0</td>\n",
              "      <td>0.0</td>\n",
              "      <td>0.0</td>\n",
              "      <td>0.0</td>\n",
              "      <td>0.0</td>\n",
              "      <td>...</td>\n",
              "      <td>0.0</td>\n",
              "      <td>0.0</td>\n",
              "      <td>0.0</td>\n",
              "      <td>0.000000</td>\n",
              "      <td>0.0</td>\n",
              "      <td>0.0</td>\n",
              "      <td>0.0</td>\n",
              "      <td>0.0</td>\n",
              "      <td>0.0</td>\n",
              "      <td>0.0</td>\n",
              "    </tr>\n",
              "    <tr>\n",
              "      <th>4</th>\n",
              "      <td>0.0</td>\n",
              "      <td>0.0</td>\n",
              "      <td>0.0</td>\n",
              "      <td>0.0</td>\n",
              "      <td>0.0</td>\n",
              "      <td>0.0</td>\n",
              "      <td>0.0</td>\n",
              "      <td>0.0</td>\n",
              "      <td>0.0</td>\n",
              "      <td>0.0</td>\n",
              "      <td>...</td>\n",
              "      <td>0.0</td>\n",
              "      <td>0.0</td>\n",
              "      <td>0.0</td>\n",
              "      <td>0.000000</td>\n",
              "      <td>0.0</td>\n",
              "      <td>0.0</td>\n",
              "      <td>0.0</td>\n",
              "      <td>0.0</td>\n",
              "      <td>0.0</td>\n",
              "      <td>0.0</td>\n",
              "    </tr>\n",
              "  </tbody>\n",
              "</table>\n",
              "<p>5 rows × 15000 columns</p>\n",
              "</div>"
            ],
            "text/plain": [
              "   abaixo  abaixo do  abea  abeo  abeura  abraço  abre  abri  abri caixa  \\\n",
              "0     0.0        0.0   0.0   0.0     0.0     0.0   0.0   0.0         0.0   \n",
              "1     0.0        0.0   0.0   0.0     0.0     0.0   0.0   0.0         0.0   \n",
              "2     0.0        0.0   0.0   0.0     0.0     0.0   0.0   0.0         0.0   \n",
              "3     0.0        0.0   0.0   0.0     0.0     0.0   0.0   0.0         0.0   \n",
              "4     0.0        0.0   0.0   0.0     0.0     0.0   0.0   0.0         0.0   \n",
              "\n",
              "   abril  ...  único ponto negativo  único ponto negativo que  único porém  \\\n",
              "0    0.0  ...                   0.0                       0.0          0.0   \n",
              "1    0.0  ...                   0.0                       0.0          0.0   \n",
              "2    0.0  ...                   0.0                       0.0          0.0   \n",
              "3    0.0  ...                   0.0                       0.0          0.0   \n",
              "4    0.0  ...                   0.0                       0.0          0.0   \n",
              "\n",
              "   único problema  único problema foi  único problema que  úteis  úteis para  \\\n",
              "0        0.181559                 0.0                 0.0    0.0         0.0   \n",
              "1        0.000000                 0.0                 0.0    0.0         0.0   \n",
              "2        0.000000                 0.0                 0.0    0.0         0.0   \n",
              "3        0.000000                 0.0                 0.0    0.0         0.0   \n",
              "4        0.000000                 0.0                 0.0    0.0         0.0   \n",
              "\n",
              "   útil  útil para  \n",
              "0   0.0        0.0  \n",
              "1   0.0        0.0  \n",
              "2   0.0        0.0  \n",
              "3   0.0        0.0  \n",
              "4   0.0        0.0  \n",
              "\n",
              "[5 rows x 15000 columns]"
            ]
          },
          "execution_count": 6,
          "metadata": {},
          "output_type": "execute_result"
        }
      ],
      "source": [
        "tfidf.head()"
      ]
    },
    {
      "cell_type": "code",
      "execution_count": null,
      "metadata": {
        "id": "qw85CDz0Je4D",
        "outputId": "06e24146-d2bc-4919-8f2b-95e61addd1cb"
      },
      "outputs": [
        {
          "name": "stdout",
          "output_type": "stream",
          "text": [
            "TfidfVectorizer(max_df=0.95, max_features=15000, min_df=2, ngram_range=(1, 4))\n"
          ]
        }
      ],
      "source": [
        "print(vect)"
      ]
    },
    {
      "cell_type": "code",
      "execution_count": null,
      "metadata": {
        "colab": {
          "base_uri": "https://localhost:8080/"
        },
        "id": "ALblOdLhn9A_",
        "outputId": "d9d69ea8-c1ab-4350-8e1d-e64bc36ec496"
      },
      "outputs": [
        {
          "data": {
            "text/plain": [
              "array([1, 1, 1, ..., 1, 0, 0])"
            ]
          },
          "execution_count": 8,
          "metadata": {},
          "output_type": "execute_result"
        }
      ],
      "source": [
        "labels = df['sentiment'].values\n",
        "\n",
        "labels"
      ]
    },
    {
      "cell_type": "code",
      "execution_count": null,
      "metadata": {
        "id": "SqNcbpdClP6F"
      },
      "outputs": [],
      "source": [
        "from sklearn.model_selection import train_test_split\n",
        "X_train, X_test, y_train, y_test = train_test_split(text_vect, labels,test_size=0.3, random_state = 42)"
      ]
    },
    {
      "cell_type": "code",
      "execution_count": null,
      "metadata": {
        "id": "0PhnnYAImVc4"
      },
      "outputs": [],
      "source": [
        "from sklearn.preprocessing import MaxAbsScaler\n",
        "\n",
        "scaler = MaxAbsScaler()\n",
        "scaler.fit(X_train)\n",
        "\n",
        "X_train = scaler.transform(X_train)\n",
        "X_test  = scaler.transform(X_test)"
      ]
    },
    {
      "cell_type": "code",
      "execution_count": null,
      "metadata": {
        "colab": {
          "base_uri": "https://localhost:8080/"
        },
        "id": "_fJ9ZJ1unHng",
        "outputId": "6641b81f-8cfe-4619-85f2-ad1304dfd14c"
      },
      "outputs": [
        {
          "name": "stdout",
          "output_type": "stream",
          "text": [
            "LogisticRegression(max_iter=30000)\n"
          ]
        }
      ],
      "source": [
        "from sklearn.model_selection import cross_val_score\n",
        "from sklearn.linear_model import LogisticRegression\n",
        "\n",
        "LogReg = LogisticRegression(max_iter = 30000)\n",
        "\n",
        "\n",
        "LogReg = LogReg.fit(X_train, y_train)\n",
        "\n",
        "\n",
        "print(LogReg)\n",
        "\n",
        "#print(np.mean(cross_val_score(LogReg, x_vect, labels, cv=10)))\n"
      ]
    },
    {
      "cell_type": "code",
      "execution_count": null,
      "metadata": {
        "id": "ZPhSzsbnJe4F"
      },
      "outputs": [],
      "source": [
        "#lr = LogisticRegression(solver='liblinear')\n",
        "\n",
        "#scores = cross_val_score(lr, x, y, cv=10, scoring='accuracy')\n",
        "\n",
        "#print('Acurácia média:', scores.mean())"
      ]
    },
    {
      "cell_type": "code",
      "execution_count": null,
      "metadata": {
        "id": "F5mlUHhupR4j"
      },
      "outputs": [],
      "source": [
        "y_prediction = LogReg.predict(X_test)"
      ]
    },
    {
      "cell_type": "code",
      "execution_count": null,
      "metadata": {
        "id": "Aj0mKxPdJe4G"
      },
      "outputs": [],
      "source": [
        "#!pip install matplotlib"
      ]
    },
    {
      "cell_type": "code",
      "execution_count": null,
      "metadata": {
        "id": "4jUNUXVQJe4G"
      },
      "outputs": [],
      "source": [
        "#!pip install seaborn\n"
      ]
    },
    {
      "cell_type": "code",
      "execution_count": null,
      "metadata": {
        "id": "Ss_Xh3n2p-BT"
      },
      "outputs": [],
      "source": [
        "from sklearn.metrics import accuracy_score, confusion_matrix, f1_score, roc_auc_score\n",
        "\n",
        "import matplotlib.pyplot as plt\n",
        "#import pip\n",
        "#pip.main(['install','seaborn'])\n",
        "import seaborn as sns\n",
        "\n",
        "def metricas(y_true, y_pred):\n",
        "     \n",
        "    print(\"Acurácia: \", accuracy_score(y_true, y_pred)) \n",
        "    print(\"\\nAUROC:\", roc_auc_score(y_true, y_pred))\n",
        "    print(\"\\nF1-Score:\", f1_score(y_true, y_pred, average='weighted'))\n",
        "    print(\"\\nMatriz de confusão:\")\n",
        "    sns.heatmap(confusion_matrix(y_true, y_pred),cmap=\"Blues\", annot=True,annot_kws={\"size\": 16})\n",
        "    plt.show()"
      ]
    },
    {
      "cell_type": "code",
      "execution_count": null,
      "metadata": {
        "id": "ytZyxsvBJe4H"
      },
      "outputs": [],
      "source": [
        ""
      ]
    },
    {
      "cell_type": "code",
      "execution_count": null,
      "metadata": {
        "colab": {
          "base_uri": "https://localhost:8080/",
          "height": 387
        },
        "id": "N9nEXQP2pfiL",
        "outputId": "66e4e1b4-32e4-4cc2-a2a3-129005a80ec5"
      },
      "outputs": [
        {
          "name": "stdout",
          "output_type": "stream",
          "text": [
            "Acurácia:  0.8956990330378727\n",
            "\n",
            "AUROC: 0.8881380175222174\n",
            "\n",
            "F1-Score: 0.8954496692826799\n",
            "\n",
            "Matriz de confusão:\n"
          ]
        },
        {
          "data": {
            "image/png": "[encoded data removed]",
            "text/plain": [
              "<Figure size 432x288 with 2 Axes>"
            ]
          },
          "metadata": {
            "needs_background": "light"
          },
          "output_type": "display_data"
        }
      ],
      "source": [
        "metricas(y_test, y_prediction)"
      ]
    },
    {
      "cell_type": "code",
      "execution_count": null,
      "metadata": {
        "id": "KcIDfizSqgI2"
      },
      "outputs": [],
      "source": [
        "def predicao_log(review):\n",
        "  texto_vetorizado = vect.transform([review])\n",
        "  pred = LogReg.predict(texto_vetorizado)\n",
        "\n",
        "  if pred == 0:\n",
        "    print(\"Esse comentário é uma review negativa.\")\n",
        "  else:\n",
        "    print(\"Esse comentário é uma review positiva.\")"
      ]
    },
    {
      "cell_type": "code",
      "execution_count": null,
      "metadata": {
        "colab": {
          "base_uri": "https://localhost:8080/"
        },
        "id": "9zSi4LEirvys",
        "outputId": "944c6ac5-81b4-42d6-94cc-284415d52af4"
      },
      "outputs": [
        {
          "name": "stdout",
          "output_type": "stream",
          "text": [
            "Esse comentário é uma review negativa.\n"
          ]
        }
      ],
      "source": [
        "predicao_log(\"acho que não gostei desse notebook, demorou muito pra chegar e notebook é feio\")"
      ]
    },
    {
      "cell_type": "code",
      "execution_count": null,
      "metadata": {
        "id": "GsjZ7dbmJe4J",
        "outputId": "5803073b-1a48-44ae-cd4c-305f16ec73ba"
      },
      "outputs": [
        {
          "name": "stdout",
          "output_type": "stream",
          "text": [
            "Esse comentário é uma review positiva.\n"
          ]
        }
      ],
      "source": [
        "predicao_log('Me Sinto satisfeita com esse produto, o celular é incrivél, adorei e a entrega foi super rádida')"
      ]
    },
    {
      "cell_type": "code",
      "execution_count": null,
      "metadata": {
        "colab": {
          "base_uri": "https://localhost:8080/"
        },
        "id": "Vjxfn9-jldDc",
        "outputId": "cddd0f6d-a2eb-4e7b-a355-84fbfddf1889"
      },
      "outputs": [
        {
          "name": "stdout",
          "output_type": "stream",
          "text": [
            "Esse comentário é uma review negativa.\n"
          ]
        }
      ],
      "source": [
        "predicao_log('Bom Estou contente com a compra entrega rápida o único problema com as Americanas é se houver troca ou devolução do produto o consumidor tem problemas com espera')"
      ]
    },
    {
      "cell_type": "code",
      "execution_count": null,
      "metadata": {
        "colab": {
          "base_uri": "https://localhost:8080/"
        },
        "id": "s7KX1eThlwli",
        "outputId": "b8889d26-4344-4b40-94c5-04387d2fc6a9"
      },
      "outputs": [
        {
          "name": "stdout",
          "output_type": "stream",
          "text": [
            "Esse comentário é uma review positiva.\n"
          ]
        }
      ],
      "source": [
        "predicao_log('Preço imbatível ótima qualidade Por apenas Reu consegui comprar esse lindo copo de acrílico\t')"
      ]
    },
    {
      "cell_type": "code",
      "execution_count": null,
      "metadata": {
        "colab": {
          "base_uri": "https://localhost:8080/"
        },
        "id": "b4ns9iv8l0MG",
        "outputId": "1c6fc990-c872-4115-e977-e62bd0475f3a"
      },
      "outputs": [
        {
          "name": "stdout",
          "output_type": "stream",
          "text": [
            "Esse comentário é uma review negativa.\n"
          ]
        }
      ],
      "source": [
        "predicao_log('Revoltado Esse celular não vale nada a bateria não vale nada descarrega sozinha quando estar usando esquenta tanto que faz medo espludi foi a pior compra da minha vida se eu tivesse condições quebrava ele em mil pedaços e comprava outro de qualquer marca menos Motorola\t')"
      ]
    },
    {
      "cell_type": "code",
      "execution_count": null,
      "metadata": {
        "id": "tE20gfnVmJ1e"
      },
      "outputs": [],
      "source": [
        ""
      ]
    },
    {
      "cell_type": "code",
      "execution_count": null,
      "metadata": {
        "id": "b7uOMaTRmRow",
        "outputId": "5b8afb7b-7a12-441a-b4a7-3d7b35d9a96a"
      },
      "outputs": [
        {
          "name": "stderr",
          "output_type": "stream",
          "text": [
            "/home/betania.honorio/.local/lib/python3.8/site-packages/sklearn/svm/_base.py:1206: ConvergenceWarning: Liblinear failed to converge, increase the number of iterations.\n",
            "  warnings.warn(\n"
          ]
        },
        {
          "data": {
            "text/plain": [
              "LinearSVC(C=10, random_state=0)"
            ]
          },
          "execution_count": 24,
          "metadata": {},
          "output_type": "execute_result"
        }
      ],
      "source": [
        "from sklearn.svm import LinearSVC\n",
        "\n",
        "clf = LinearSVC(C=10, random_state=0)\n",
        "clf.fit(X_train, y_train)"
      ]
    },
    {
      "cell_type": "code",
      "execution_count": null,
      "metadata": {
        "id": "-tGvdsZeJe4L"
      },
      "outputs": [],
      "source": [
        "y_predictionvlf = clf.predict(X_test)"
      ]
    },
    {
      "cell_type": "code",
      "execution_count": null,
      "metadata": {
        "id": "xB9omXtxJe4L"
      },
      "outputs": [],
      "source": [
        ""
      ]
    },
    {
      "cell_type": "code",
      "execution_count": null,
      "metadata": {
        "id": "Lr3wOpzEJe4L"
      },
      "outputs": [],
      "source": [
        "from sklearn.metrics import accuracy_score, confusion_matrix, f1_score, roc_auc_score\n",
        "\n",
        "import matplotlib.pyplot as plt\n",
        "#import pip\n",
        "#pip.main(['install','seaborn'])\n",
        "import seaborn as sns\n",
        "\n",
        "def metricas(y_true, y_pred):\n",
        "     \n",
        "    print(\"Acurácia: \", accuracy_score(y_true, y_pred)) \n",
        "    print(\"\\nAUROC:\", roc_auc_score(y_true, y_pred))\n",
        "    print(\"\\nF1-Score:\", f1_score(y_true, y_pred, average='weighted'))\n",
        "    print(\"\\nMatriz de confusão:\")\n",
        "    sns.heatmap(confusion_matrix(y_true, y_pred),cmap=\"Blues\", annot=True,annot_kws={\"size\": 16})\n",
        "    plt.show()"
      ]
    },
    {
      "cell_type": "code",
      "execution_count": null,
      "metadata": {
        "id": "NUriVu5mJe4M",
        "outputId": "ce13e0c9-150d-4445-cefe-fa64cc492176"
      },
      "outputs": [
        {
          "name": "stdout",
          "output_type": "stream",
          "text": [
            "Acurácia:  0.8634921434327155\n",
            "\n",
            "AUROC: 0.8558042259997316\n",
            "\n",
            "F1-Score: 0.863384894121642\n",
            "\n",
            "Matriz de confusão:\n"
          ]
        },
        {
          "data": {
            "image/png": "[encoded data removed]",
            "text/plain": [
              "<Figure size 432x288 with 2 Axes>"
            ]
          },
          "metadata": {
            "needs_background": "light"
          },
          "output_type": "display_data"
        }
      ],
      "source": [
        "metricas(y_test, y_predictionvlf)"
      ]
    },
    {
      "cell_type": "code",
      "execution_count": null,
      "metadata": {
        "id": "xOoG1JuaJe4M"
      },
      "outputs": [],
      "source": [
        "def predicao_lsvc(review):\n",
        "  texto_vetorizado = vect.transform([review])\n",
        "  pred = clf.predict(texto_vetorizado)\n",
        "\n",
        "  if pred == 0:\n",
        "    print(\"Esse comentário é uma review negativa.\")\n",
        "  else:\n",
        "    print(\"Esse comentário é uma review positiva.\")"
      ]
    },
    {
      "cell_type": "code",
      "execution_count": null,
      "metadata": {
        "id": "_-2QWnM2Je4M",
        "outputId": "fed814a2-b70b-4096-c88b-25b9cfcde1b9"
      },
      "outputs": [
        {
          "name": "stdout",
          "output_type": "stream",
          "text": [
            "Esse comentário é uma review negativa.\n"
          ]
        }
      ],
      "source": [
        "predicao_lsvc(\"acho que não gostei desse notebook, demorou muito pra chegar e notebook é feio\")"
      ]
    },
    {
      "cell_type": "code",
      "execution_count": null,
      "metadata": {
        "id": "NMCzOWOXJe4N",
        "outputId": "8a843649-8d7a-450a-fb7f-65616bae3297"
      },
      "outputs": [
        {
          "name": "stdout",
          "output_type": "stream",
          "text": [
            "Esse comentário é uma review positiva.\n"
          ]
        }
      ],
      "source": [
        "predicao_lsvc('Me Sinto satisfeita com esse produto, o celular é incrivél, adorei e a entrega foi super rádida')"
      ]
    },
    {
      "cell_type": "code",
      "execution_count": null,
      "metadata": {
        "id": "IufwlnJcJe4N",
        "outputId": "d4faa184-8ee4-4de0-c866-664d0fb8bfb2"
      },
      "outputs": [
        {
          "name": "stdout",
          "output_type": "stream",
          "text": [
            "Esse comentário é uma review negativa.\n"
          ]
        }
      ],
      "source": [
        "predicao_lsvc('Bom Estou contente com a compra entrega rápida o único problema com as Americanas é se houver troca ou devolução do produto o consumidor tem problemas com espera')"
      ]
    },
    {
      "cell_type": "code",
      "execution_count": null,
      "metadata": {
        "id": "IyCE01NkJe4N",
        "outputId": "c3effb81-5c96-413e-904c-7826227228e1"
      },
      "outputs": [
        {
          "name": "stdout",
          "output_type": "stream",
          "text": [
            "Esse comentário é uma review positiva.\n"
          ]
        }
      ],
      "source": [
        "predicao_lsvc('Preço imbatível ótima qualidade Por apenas Reu consegui comprar esse lindo copo de acrílico\t')"
      ]
    },
    {
      "cell_type": "code",
      "execution_count": null,
      "metadata": {
        "id": "2rbaxwxhJe4N",
        "outputId": "d94044c6-cdc1-4bfc-e3c2-473151b3bae7"
      },
      "outputs": [
        {
          "name": "stdout",
          "output_type": "stream",
          "text": [
            "Esse comentário é uma review positiva.\n"
          ]
        }
      ],
      "source": [
        "predicao_lsvc('\tGostei do produto Produto ofereçe o que prometeu no anúncio entrega muito rapida bem antes do prazo')"
      ]
    },
    {
      "cell_type": "code",
      "execution_count": null,
      "metadata": {
        "id": "5rAluQwCJe4O",
        "outputId": "8a250d28-d585-4579-d510-73994d1f732d"
      },
      "outputs": [
        {
          "name": "stdout",
          "output_type": "stream",
          "text": [
            "Esse comentário é uma review negativa.\n"
          ]
        }
      ],
      "source": [
        "predicao_lsvc('Revoltado Esse celular não vale nada a bateria não vale nada descarrega sozinha quando estar usando esquenta tanto que faz medo espludi foi a pior compra da minha vida')"
      ]
    },
    {
      "cell_type": "code",
      "execution_count": null,
      "metadata": {
        "id": "k8AID47QJe4O"
      },
      "outputs": [],
      "source": [
        ""
      ]
    }
  ],
  "metadata": {
    "colab": {
      "name": "analiseexploratoria_ML.ipynb",
      "provenance": [],
      "include_colab_link": true
    },
    "kernelspec": {
      "display_name": "Python 3",
      "language": "python",
      "name": "python3"
    },
    "language_info": {
      "codemirror_mode": {
        "name": "ipython",
        "version": 3
      },
      "file_extension": ".py",
      "mimetype": "text/x-python",
      "name": "python",
      "nbconvert_exporter": "python",
      "pygments_lexer": "ipython3",
      "version": "3.8.10"
    }
  },
  "nbformat": 4,
  "nbformat_minor": 0
}